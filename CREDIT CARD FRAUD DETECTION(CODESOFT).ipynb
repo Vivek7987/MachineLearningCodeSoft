{
 "cells": [
  {
   "cell_type": "markdown",
   "id": "5bc2164d",
   "metadata": {},
   "source": [
    "# Importing All Required Libreary:"
   ]
  },
  {
   "cell_type": "code",
   "execution_count": 18,
   "id": "9c716cd3",
   "metadata": {},
   "outputs": [],
   "source": [
    "import pandas as pd #we are using this library for data manipulation\n",
    "import re #we are using this RegEx library for removing unwanted keyword ,url etc from dataset\n",
    "import string\n",
    "import nltk\n",
    "import numpy as np#we are using this library for array data manipulation\n",
    "import seaborn as sns # we are using this for 2-D data Visuall\n",
    "import matplotlib.pyplot as plt # for the 3-D data Visuall\n",
    "from sklearn.model_selection import train_test_split #we have use this for splitting our data into training and testing \n",
    "from sklearn.naive_bayes import MultinomialNB # we used this for naive_bayes model\n",
    "from sklearn.linear_model import LogisticRegression #we have use this for logistic regression \n",
    "from sklearn.feature_extraction.text import TfidfVectorizer # have use this for feature extraction\n",
    "import warnings # we are this worning so that if any warning we will come it will remove it \n",
    "from sklearn.metrics import accuracy_score, precision_score, recall_score, f1_score, classification_report\n",
    "#with the help of this will print the accuracy ,precision recall and f1_score"
   ]
  },
  {
   "cell_type": "markdown",
   "id": "b5462b0d",
   "metadata": {},
   "source": [
    "# Preprocessing of The Dataset:"
   ]
  },
  {
   "cell_type": "code",
   "execution_count": 2,
   "id": "22722ef2",
   "metadata": {},
   "outputs": [],
   "source": [
    "#we are reading the test and train_data and we are using only four column for this model Id,MovieName,Genre,And Summary\n",
    "\n",
    "train_df = pd.read_csv(\"train_data.txt\",engine=\"python\",sep=\" ::: \",names=[\"Id\", \"Movie\", \"Genre\", \"Summary\"])\n",
    "\n",
    "test_df = pd.read_csv(\"test_data_solution.txt\",engine=\"python\",sep=\" ::: \",names=[\"Id\", \"Movie\", \"Genre\", \"Summary\"])"
   ]
  },
  {
   "cell_type": "code",
   "execution_count": 3,
   "id": "fe06528b",
   "metadata": {},
   "outputs": [
    {
     "data": {
      "text/html": [
       "<div>\n",
       "<style scoped>\n",
       "    .dataframe tbody tr th:only-of-type {\n",
       "        vertical-align: middle;\n",
       "    }\n",
       "\n",
       "    .dataframe tbody tr th {\n",
       "        vertical-align: top;\n",
       "    }\n",
       "\n",
       "    .dataframe thead th {\n",
       "        text-align: right;\n",
       "    }\n",
       "</style>\n",
       "<table border=\"1\" class=\"dataframe\">\n",
       "  <thead>\n",
       "    <tr style=\"text-align: right;\">\n",
       "      <th></th>\n",
       "      <th>Id</th>\n",
       "      <th>Movie</th>\n",
       "      <th>Genre</th>\n",
       "      <th>Summary</th>\n",
       "    </tr>\n",
       "  </thead>\n",
       "  <tbody>\n",
       "    <tr>\n",
       "      <th>0</th>\n",
       "      <td>1</td>\n",
       "      <td>Oscar et la dame rose (2009)</td>\n",
       "      <td>drama</td>\n",
       "      <td>Listening in to a conversation between his doc...</td>\n",
       "    </tr>\n",
       "    <tr>\n",
       "      <th>1</th>\n",
       "      <td>2</td>\n",
       "      <td>Cupid (1997)</td>\n",
       "      <td>thriller</td>\n",
       "      <td>A brother and sister with a past incestuous re...</td>\n",
       "    </tr>\n",
       "    <tr>\n",
       "      <th>2</th>\n",
       "      <td>3</td>\n",
       "      <td>Young, Wild and Wonderful (1980)</td>\n",
       "      <td>adult</td>\n",
       "      <td>As the bus empties the students for their fiel...</td>\n",
       "    </tr>\n",
       "    <tr>\n",
       "      <th>3</th>\n",
       "      <td>4</td>\n",
       "      <td>The Secret Sin (1915)</td>\n",
       "      <td>drama</td>\n",
       "      <td>To help their unemployed father make ends meet...</td>\n",
       "    </tr>\n",
       "    <tr>\n",
       "      <th>4</th>\n",
       "      <td>5</td>\n",
       "      <td>The Unrecovered (2007)</td>\n",
       "      <td>drama</td>\n",
       "      <td>The film's title refers not only to the un-rec...</td>\n",
       "    </tr>\n",
       "  </tbody>\n",
       "</table>\n",
       "</div>"
      ],
      "text/plain": [
       "   Id                             Movie     Genre  \\\n",
       "0   1      Oscar et la dame rose (2009)     drama   \n",
       "1   2                      Cupid (1997)  thriller   \n",
       "2   3  Young, Wild and Wonderful (1980)     adult   \n",
       "3   4             The Secret Sin (1915)     drama   \n",
       "4   5            The Unrecovered (2007)     drama   \n",
       "\n",
       "                                             Summary  \n",
       "0  Listening in to a conversation between his doc...  \n",
       "1  A brother and sister with a past incestuous re...  \n",
       "2  As the bus empties the students for their fiel...  \n",
       "3  To help their unemployed father make ends meet...  \n",
       "4  The film's title refers not only to the un-rec...  "
      ]
     },
     "execution_count": 3,
     "metadata": {},
     "output_type": "execute_result"
    }
   ],
   "source": [
    "#with the help of .head function we are showing  the top 5 recored of the  train dataset\n",
    "train_df.head()"
   ]
  },
  {
   "cell_type": "code",
   "execution_count": 4,
   "id": "6ce4b41d",
   "metadata": {
    "collapsed": true
   },
   "outputs": [
    {
     "name": "stdout",
     "output_type": "stream",
     "text": [
      "<class 'pandas.core.frame.DataFrame'>\n",
      "RangeIndex: 54214 entries, 0 to 54213\n",
      "Data columns (total 4 columns):\n",
      " #   Column   Non-Null Count  Dtype \n",
      "---  ------   --------------  ----- \n",
      " 0   Id       54214 non-null  int64 \n",
      " 1   Movie    54214 non-null  object\n",
      " 2   Genre    54214 non-null  object\n",
      " 3   Summary  54214 non-null  object\n",
      "dtypes: int64(1), object(3)\n",
      "memory usage: 1.7+ MB\n"
     ]
    }
   ],
   "source": [
    "#with the help of .info function we are showing the info of the data\n",
    "train_df.info()"
   ]
  },
  {
   "cell_type": "code",
   "execution_count": 5,
   "id": "c21fbd94",
   "metadata": {
    "collapsed": true
   },
   "outputs": [
    {
     "data": {
      "text/plain": [
       "Id         0\n",
       "Movie      0\n",
       "Genre      0\n",
       "Summary    0\n",
       "dtype: int64"
      ]
     },
     "execution_count": 5,
     "metadata": {},
     "output_type": "execute_result"
    }
   ],
   "source": [
    "#we are checking the all null value in the dataset\n",
    "train_df.isnull().sum()"
   ]
  },
  {
   "cell_type": "code",
   "execution_count": 6,
   "id": "84697788",
   "metadata": {},
   "outputs": [
    {
     "data": {
      "text/html": [
       "<div>\n",
       "<style scoped>\n",
       "    .dataframe tbody tr th:only-of-type {\n",
       "        vertical-align: middle;\n",
       "    }\n",
       "\n",
       "    .dataframe tbody tr th {\n",
       "        vertical-align: top;\n",
       "    }\n",
       "\n",
       "    .dataframe thead th {\n",
       "        text-align: right;\n",
       "    }\n",
       "</style>\n",
       "<table border=\"1\" class=\"dataframe\">\n",
       "  <thead>\n",
       "    <tr style=\"text-align: right;\">\n",
       "      <th></th>\n",
       "      <th>Id</th>\n",
       "      <th>Movie</th>\n",
       "      <th>Genre</th>\n",
       "      <th>Summary</th>\n",
       "    </tr>\n",
       "  </thead>\n",
       "  <tbody>\n",
       "    <tr>\n",
       "      <th>0</th>\n",
       "      <td>1</td>\n",
       "      <td>Edgar's Lunch (1998)</td>\n",
       "      <td>thriller</td>\n",
       "      <td>L.R. Brane loves his life - his car, his apart...</td>\n",
       "    </tr>\n",
       "    <tr>\n",
       "      <th>1</th>\n",
       "      <td>2</td>\n",
       "      <td>La guerra de papá (1977)</td>\n",
       "      <td>comedy</td>\n",
       "      <td>Spain, March 1964: Quico is a very naughty chi...</td>\n",
       "    </tr>\n",
       "    <tr>\n",
       "      <th>2</th>\n",
       "      <td>3</td>\n",
       "      <td>Off the Beaten Track (2010)</td>\n",
       "      <td>documentary</td>\n",
       "      <td>One year in the life of Albin and his family o...</td>\n",
       "    </tr>\n",
       "    <tr>\n",
       "      <th>3</th>\n",
       "      <td>4</td>\n",
       "      <td>Meu Amigo Hindu (2015)</td>\n",
       "      <td>drama</td>\n",
       "      <td>His father has died, he hasn't spoken with his...</td>\n",
       "    </tr>\n",
       "    <tr>\n",
       "      <th>4</th>\n",
       "      <td>5</td>\n",
       "      <td>Er nu zhai (1955)</td>\n",
       "      <td>drama</td>\n",
       "      <td>Before he was known internationally as a marti...</td>\n",
       "    </tr>\n",
       "  </tbody>\n",
       "</table>\n",
       "</div>"
      ],
      "text/plain": [
       "   Id                        Movie        Genre  \\\n",
       "0   1         Edgar's Lunch (1998)     thriller   \n",
       "1   2     La guerra de papá (1977)       comedy   \n",
       "2   3  Off the Beaten Track (2010)  documentary   \n",
       "3   4       Meu Amigo Hindu (2015)        drama   \n",
       "4   5            Er nu zhai (1955)        drama   \n",
       "\n",
       "                                             Summary  \n",
       "0  L.R. Brane loves his life - his car, his apart...  \n",
       "1  Spain, March 1964: Quico is a very naughty chi...  \n",
       "2  One year in the life of Albin and his family o...  \n",
       "3  His father has died, he hasn't spoken with his...  \n",
       "4  Before he was known internationally as a marti...  "
      ]
     },
     "execution_count": 6,
     "metadata": {},
     "output_type": "execute_result"
    }
   ],
   "source": [
    "#with the help of .head function we are showing  the top 5 recored of the  train dataset\n",
    "test_df.head()\n"
   ]
  },
  {
   "cell_type": "code",
   "execution_count": 7,
   "id": "f27e9eec",
   "metadata": {
    "collapsed": true
   },
   "outputs": [
    {
     "name": "stdout",
     "output_type": "stream",
     "text": [
      "<class 'pandas.core.frame.DataFrame'>\n",
      "RangeIndex: 54200 entries, 0 to 54199\n",
      "Data columns (total 4 columns):\n",
      " #   Column   Non-Null Count  Dtype \n",
      "---  ------   --------------  ----- \n",
      " 0   Id       54200 non-null  int64 \n",
      " 1   Movie    54200 non-null  object\n",
      " 2   Genre    54200 non-null  object\n",
      " 3   Summary  54200 non-null  object\n",
      "dtypes: int64(1), object(3)\n",
      "memory usage: 1.7+ MB\n"
     ]
    }
   ],
   "source": [
    "#with the help of .info function we are showing the info of the data\n",
    "test_df.info()"
   ]
  },
  {
   "cell_type": "code",
   "execution_count": 8,
   "id": "d7e8318d",
   "metadata": {
    "collapsed": true
   },
   "outputs": [
    {
     "data": {
      "text/plain": [
       "Id         0\n",
       "Movie      0\n",
       "Genre      0\n",
       "Summary    0\n",
       "dtype: int64"
      ]
     },
     "execution_count": 8,
     "metadata": {},
     "output_type": "execute_result"
    }
   ],
   "source": [
    "#we are checking the all null value in the dataset\n",
    "test_df.isnull().sum()"
   ]
  },
  {
   "cell_type": "markdown",
   "id": "9afa384a",
   "metadata": {},
   "source": [
    "# EDA of The Dataset:"
   ]
  },
  {
   "cell_type": "code",
   "execution_count": 9,
   "id": "1e8e9b9a",
   "metadata": {},
   "outputs": [
    {
     "data": {
      "image/png": "[encoded data removed]",
      "text/plain": [
       "<Figure size 1800x720 with 1 Axes>"
      ]
     },
     "metadata": {
      "needs_background": "light"
     },
     "output_type": "display_data"
    }
   ],
   "source": [
    "#we are showing the barplot of the Genre of train data\n",
    "plt.figure(figsize=(25,10))\n",
    "counts = train_df.Genre.value_counts()\n",
    "sns.barplot(x=counts.index, y=counts)\n",
    "\n",
    "plt.xlabel('Genre')\n",
    "plt.ylabel('Count')\n",
    "plt.show();"
   ]
  },
  {
   "cell_type": "code",
   "execution_count": 27,
   "id": "32d45378",
   "metadata": {},
   "outputs": [
    {
     "data": {
      "image/png": "[encoded data removed]",
      "text/plain": [
       "<Figure size 864x504 with 1 Axes>"
      ]
     },
     "metadata": {
      "needs_background": "light"
     },
     "output_type": "display_data"
    }
   ],
   "source": [
    "plt.figure(figsize=(12,7))\n",
    "train_df['Genre'].value_counts().plot.barh()\n",
    "plt.show()"
   ]
  },
  {
   "cell_type": "code",
   "execution_count": 10,
   "id": "f1fab563",
   "metadata": {},
   "outputs": [
    {
     "data": {
      "image/png": "[encoded data removed]",
      "text/plain": [
       "<Figure size 1800x720 with 1 Axes>"
      ]
     },
     "metadata": {
      "needs_background": "light"
     },
     "output_type": "display_data"
    }
   ],
   "source": [
    "#we are showing the countplot of the Genre of train data\n",
    "plt.figure(figsize=(25,10))\n",
    "sns.countplot(x='Genre',data=train_df)\n",
    "plt.show();"
   ]
  },
  {
   "cell_type": "code",
   "execution_count": 11,
   "id": "fb2d3291",
   "metadata": {},
   "outputs": [
    {
     "data": {
      "text/html": [
       "<div>\n",
       "<style scoped>\n",
       "    .dataframe tbody tr th:only-of-type {\n",
       "        vertical-align: middle;\n",
       "    }\n",
       "\n",
       "    .dataframe tbody tr th {\n",
       "        vertical-align: top;\n",
       "    }\n",
       "\n",
       "    .dataframe thead th {\n",
       "        text-align: right;\n",
       "    }\n",
       "</style>\n",
       "<table border=\"1\" class=\"dataframe\">\n",
       "  <thead>\n",
       "    <tr style=\"text-align: right;\">\n",
       "      <th></th>\n",
       "      <th>Id</th>\n",
       "      <th>Movie</th>\n",
       "      <th>Genre</th>\n",
       "      <th>Summary</th>\n",
       "      <th>length</th>\n",
       "    </tr>\n",
       "  </thead>\n",
       "  <tbody>\n",
       "    <tr>\n",
       "      <th>0</th>\n",
       "      <td>1</td>\n",
       "      <td>Oscar et la dame rose (2009)</td>\n",
       "      <td>drama</td>\n",
       "      <td>Listening in to a conversation between his doc...</td>\n",
       "      <td>545</td>\n",
       "    </tr>\n",
       "    <tr>\n",
       "      <th>1</th>\n",
       "      <td>2</td>\n",
       "      <td>Cupid (1997)</td>\n",
       "      <td>thriller</td>\n",
       "      <td>A brother and sister with a past incestuous re...</td>\n",
       "      <td>183</td>\n",
       "    </tr>\n",
       "    <tr>\n",
       "      <th>2</th>\n",
       "      <td>3</td>\n",
       "      <td>Young, Wild and Wonderful (1980)</td>\n",
       "      <td>adult</td>\n",
       "      <td>As the bus empties the students for their fiel...</td>\n",
       "      <td>649</td>\n",
       "    </tr>\n",
       "    <tr>\n",
       "      <th>3</th>\n",
       "      <td>4</td>\n",
       "      <td>The Secret Sin (1915)</td>\n",
       "      <td>drama</td>\n",
       "      <td>To help their unemployed father make ends meet...</td>\n",
       "      <td>1081</td>\n",
       "    </tr>\n",
       "    <tr>\n",
       "      <th>4</th>\n",
       "      <td>5</td>\n",
       "      <td>The Unrecovered (2007)</td>\n",
       "      <td>drama</td>\n",
       "      <td>The film's title refers not only to the un-rec...</td>\n",
       "      <td>624</td>\n",
       "    </tr>\n",
       "  </tbody>\n",
       "</table>\n",
       "</div>"
      ],
      "text/plain": [
       "   Id                             Movie     Genre  \\\n",
       "0   1      Oscar et la dame rose (2009)     drama   \n",
       "1   2                      Cupid (1997)  thriller   \n",
       "2   3  Young, Wild and Wonderful (1980)     adult   \n",
       "3   4             The Secret Sin (1915)     drama   \n",
       "4   5            The Unrecovered (2007)     drama   \n",
       "\n",
       "                                             Summary  length  \n",
       "0  Listening in to a conversation between his doc...     545  \n",
       "1  A brother and sister with a past incestuous re...     183  \n",
       "2  As the bus empties the students for their fiel...     649  \n",
       "3  To help their unemployed father make ends meet...    1081  \n",
       "4  The film's title refers not only to the un-rec...     624  "
      ]
     },
     "execution_count": 11,
     "metadata": {},
     "output_type": "execute_result"
    }
   ],
   "source": [
    "train_df['length']=train_df['Summary'].apply(len) \n",
    "#we are creating a new colunm called lenght we take the length of Summary colunm\n",
    "train_df.head()"
   ]
  },
  {
   "cell_type": "code",
   "execution_count": 12,
   "id": "d08d0826",
   "metadata": {},
   "outputs": [
    {
     "data": {
      "text/html": [
       "<div>\n",
       "<style scoped>\n",
       "    .dataframe tbody tr th:only-of-type {\n",
       "        vertical-align: middle;\n",
       "    }\n",
       "\n",
       "    .dataframe tbody tr th {\n",
       "        vertical-align: top;\n",
       "    }\n",
       "\n",
       "    .dataframe thead th {\n",
       "        text-align: right;\n",
       "    }\n",
       "</style>\n",
       "<table border=\"1\" class=\"dataframe\">\n",
       "  <thead>\n",
       "    <tr style=\"text-align: right;\">\n",
       "      <th></th>\n",
       "      <th>Id</th>\n",
       "      <th>length</th>\n",
       "    </tr>\n",
       "  </thead>\n",
       "  <tbody>\n",
       "    <tr>\n",
       "      <th>count</th>\n",
       "      <td>54214.000000</td>\n",
       "      <td>54214.000000</td>\n",
       "    </tr>\n",
       "    <tr>\n",
       "      <th>mean</th>\n",
       "      <td>27107.500000</td>\n",
       "      <td>599.452429</td>\n",
       "    </tr>\n",
       "    <tr>\n",
       "      <th>std</th>\n",
       "      <td>15650.378084</td>\n",
       "      <td>446.026620</td>\n",
       "    </tr>\n",
       "    <tr>\n",
       "      <th>min</th>\n",
       "      <td>1.000000</td>\n",
       "      <td>41.000000</td>\n",
       "    </tr>\n",
       "    <tr>\n",
       "      <th>25%</th>\n",
       "      <td>13554.250000</td>\n",
       "      <td>324.000000</td>\n",
       "    </tr>\n",
       "    <tr>\n",
       "      <th>50%</th>\n",
       "      <td>27107.500000</td>\n",
       "      <td>463.000000</td>\n",
       "    </tr>\n",
       "    <tr>\n",
       "      <th>75%</th>\n",
       "      <td>40660.750000</td>\n",
       "      <td>712.000000</td>\n",
       "    </tr>\n",
       "    <tr>\n",
       "      <th>max</th>\n",
       "      <td>54214.000000</td>\n",
       "      <td>10503.000000</td>\n",
       "    </tr>\n",
       "  </tbody>\n",
       "</table>\n",
       "</div>"
      ],
      "text/plain": [
       "                 Id        length\n",
       "count  54214.000000  54214.000000\n",
       "mean   27107.500000    599.452429\n",
       "std    15650.378084    446.026620\n",
       "min        1.000000     41.000000\n",
       "25%    13554.250000    324.000000\n",
       "50%    27107.500000    463.000000\n",
       "75%    40660.750000    712.000000\n",
       "max    54214.000000  10503.000000"
      ]
     },
     "execution_count": 12,
     "metadata": {},
     "output_type": "execute_result"
    }
   ],
   "source": [
    "train_df.describe()"
   ]
  },
  {
   "cell_type": "code",
   "execution_count": 30,
   "id": "c26d15a9",
   "metadata": {},
   "outputs": [
    {
     "data": {
      "image/png": "[encoded data removed]",
      "text/plain": [
       "<Figure size 1800x360 with 1 Axes>"
      ]
     },
     "metadata": {
      "needs_background": "light"
     },
     "output_type": "display_data"
    }
   ],
   "source": [
    "plt.figure(figsize=(25,5))\n",
    "sns.boxplot(x=train_df['length'].values,hue='Genre',data=train_df)  # description length across all classes\n",
    "plt.xlabel('Length of description')\n",
    "plt.show()"
   ]
  },
  {
   "cell_type": "markdown",
   "id": "e4afaa42",
   "metadata": {},
   "source": [
    "#  Cleaning The Text Dataset:"
   ]
  },
  {
   "cell_type": "code",
   "execution_count": 13,
   "id": "fbcc42dd",
   "metadata": {},
   "outputs": [],
   "source": [
    "# By using regEx we are cleaning the dataset\n",
    "def clean_text(text):\n",
    "    text = text.lower()                                  # remove all lower-case all characters\n",
    "    text =  re.sub(r'@\\S+', '',text)                     # removeall  twitter handles\n",
    "    text =  re.sub(r'http\\S+', '',text)                  # remove urls present in summary colunm\n",
    "    text =  re.sub(r'pic.\\S+', '',text) \n",
    "    text =  re.sub(r\"[^a-zA-Z+']\", ' ',text)             # only keeps characters in the summary column\n",
    "    text = re.sub(r'\\s+[a-zA-Z]\\s+', ' ', text+' ')      # keep words with length>1 only int the summary coumn\n",
    "    text = \"\".join([i for i in text if i not in string.punctuation])\n",
    "    return text"
   ]
  },
  {
   "cell_type": "code",
   "execution_count": 14,
   "id": "f80cf95c",
   "metadata": {},
   "outputs": [
    {
     "data": {
      "text/html": [
       "<div>\n",
       "<style scoped>\n",
       "    .dataframe tbody tr th:only-of-type {\n",
       "        vertical-align: middle;\n",
       "    }\n",
       "\n",
       "    .dataframe tbody tr th {\n",
       "        vertical-align: top;\n",
       "    }\n",
       "\n",
       "    .dataframe thead th {\n",
       "        text-align: right;\n",
       "    }\n",
       "</style>\n",
       "<table border=\"1\" class=\"dataframe\">\n",
       "  <thead>\n",
       "    <tr style=\"text-align: right;\">\n",
       "      <th></th>\n",
       "      <th>Id</th>\n",
       "      <th>Movie</th>\n",
       "      <th>Genre</th>\n",
       "      <th>Summary</th>\n",
       "      <th>Text_cleaning</th>\n",
       "    </tr>\n",
       "  </thead>\n",
       "  <tbody>\n",
       "    <tr>\n",
       "      <th>0</th>\n",
       "      <td>1</td>\n",
       "      <td>Edgar's Lunch (1998)</td>\n",
       "      <td>thriller</td>\n",
       "      <td>L.R. Brane loves his life - his car, his apart...</td>\n",
       "      <td>l brane loves his life   his car  his apartmen...</td>\n",
       "    </tr>\n",
       "    <tr>\n",
       "      <th>1</th>\n",
       "      <td>2</td>\n",
       "      <td>La guerra de papá (1977)</td>\n",
       "      <td>comedy</td>\n",
       "      <td>Spain, March 1964: Quico is a very naughty chi...</td>\n",
       "      <td>spain  march       quico is very naughty child...</td>\n",
       "    </tr>\n",
       "    <tr>\n",
       "      <th>2</th>\n",
       "      <td>3</td>\n",
       "      <td>Off the Beaten Track (2010)</td>\n",
       "      <td>documentary</td>\n",
       "      <td>One year in the life of Albin and his family o...</td>\n",
       "      <td>one year in the life of albin and his family o...</td>\n",
       "    </tr>\n",
       "    <tr>\n",
       "      <th>3</th>\n",
       "      <td>4</td>\n",
       "      <td>Meu Amigo Hindu (2015)</td>\n",
       "      <td>drama</td>\n",
       "      <td>His father has died, he hasn't spoken with his...</td>\n",
       "      <td>his father has died  he hasnt spoken with his ...</td>\n",
       "    </tr>\n",
       "    <tr>\n",
       "      <th>4</th>\n",
       "      <td>5</td>\n",
       "      <td>Er nu zhai (1955)</td>\n",
       "      <td>drama</td>\n",
       "      <td>Before he was known internationally as a marti...</td>\n",
       "      <td>before he was known internationally as martial...</td>\n",
       "    </tr>\n",
       "  </tbody>\n",
       "</table>\n",
       "</div>"
      ],
      "text/plain": [
       "   Id                        Movie        Genre  \\\n",
       "0   1         Edgar's Lunch (1998)     thriller   \n",
       "1   2     La guerra de papá (1977)       comedy   \n",
       "2   3  Off the Beaten Track (2010)  documentary   \n",
       "3   4       Meu Amigo Hindu (2015)        drama   \n",
       "4   5            Er nu zhai (1955)        drama   \n",
       "\n",
       "                                             Summary  \\\n",
       "0  L.R. Brane loves his life - his car, his apart...   \n",
       "1  Spain, March 1964: Quico is a very naughty chi...   \n",
       "2  One year in the life of Albin and his family o...   \n",
       "3  His father has died, he hasn't spoken with his...   \n",
       "4  Before he was known internationally as a marti...   \n",
       "\n",
       "                                       Text_cleaning  \n",
       "0  l brane loves his life   his car  his apartmen...  \n",
       "1  spain  march       quico is very naughty child...  \n",
       "2  one year in the life of albin and his family o...  \n",
       "3  his father has died  he hasnt spoken with his ...  \n",
       "4  before he was known internationally as martial...  "
      ]
     },
     "execution_count": 14,
     "metadata": {},
     "output_type": "execute_result"
    }
   ],
   "source": [
    "train_df['Text_cleaning'] = train_df.Summary.apply(clean_text) #we are  applying clean_test in our tain and test dataset in the summary colunm\n",
    "test_df['Text_cleaning'] = test_df.Summary.apply(clean_text)\n",
    "test_df.head()"
   ]
  },
  {
   "cell_type": "code",
   "execution_count": 15,
   "id": "f25878a6",
   "metadata": {},
   "outputs": [
    {
     "data": {
      "text/html": [
       "<div>\n",
       "<style scoped>\n",
       "    .dataframe tbody tr th:only-of-type {\n",
       "        vertical-align: middle;\n",
       "    }\n",
       "\n",
       "    .dataframe tbody tr th {\n",
       "        vertical-align: top;\n",
       "    }\n",
       "\n",
       "    .dataframe thead th {\n",
       "        text-align: right;\n",
       "    }\n",
       "</style>\n",
       "<table border=\"1\" class=\"dataframe\">\n",
       "  <thead>\n",
       "    <tr style=\"text-align: right;\">\n",
       "      <th></th>\n",
       "      <th>Id</th>\n",
       "      <th>Movie</th>\n",
       "      <th>Genre</th>\n",
       "      <th>Summary</th>\n",
       "      <th>length</th>\n",
       "      <th>Text_cleaning</th>\n",
       "      <th>length_Text_cleaning</th>\n",
       "    </tr>\n",
       "  </thead>\n",
       "  <tbody>\n",
       "    <tr>\n",
       "      <th>0</th>\n",
       "      <td>1</td>\n",
       "      <td>Oscar et la dame rose (2009)</td>\n",
       "      <td>drama</td>\n",
       "      <td>Listening in to a conversation between his doc...</td>\n",
       "      <td>545</td>\n",
       "      <td>listening in to conversation between his docto...</td>\n",
       "      <td>540</td>\n",
       "    </tr>\n",
       "    <tr>\n",
       "      <th>1</th>\n",
       "      <td>2</td>\n",
       "      <td>Cupid (1997)</td>\n",
       "      <td>thriller</td>\n",
       "      <td>A brother and sister with a past incestuous re...</td>\n",
       "      <td>183</td>\n",
       "      <td>a brother and sister with past incestuous rela...</td>\n",
       "      <td>180</td>\n",
       "    </tr>\n",
       "    <tr>\n",
       "      <th>2</th>\n",
       "      <td>3</td>\n",
       "      <td>Young, Wild and Wonderful (1980)</td>\n",
       "      <td>adult</td>\n",
       "      <td>As the bus empties the students for their fiel...</td>\n",
       "      <td>649</td>\n",
       "      <td>as the bus empties the students for their fiel...</td>\n",
       "      <td>646</td>\n",
       "    </tr>\n",
       "    <tr>\n",
       "      <th>3</th>\n",
       "      <td>4</td>\n",
       "      <td>The Secret Sin (1915)</td>\n",
       "      <td>drama</td>\n",
       "      <td>To help their unemployed father make ends meet...</td>\n",
       "      <td>1081</td>\n",
       "      <td>to help their unemployed father make ends meet...</td>\n",
       "      <td>1065</td>\n",
       "    </tr>\n",
       "    <tr>\n",
       "      <th>4</th>\n",
       "      <td>5</td>\n",
       "      <td>The Unrecovered (2007)</td>\n",
       "      <td>drama</td>\n",
       "      <td>The film's title refers not only to the un-rec...</td>\n",
       "      <td>624</td>\n",
       "      <td>the films title refers not only to the un reco...</td>\n",
       "      <td>622</td>\n",
       "    </tr>\n",
       "  </tbody>\n",
       "</table>\n",
       "</div>"
      ],
      "text/plain": [
       "   Id                             Movie     Genre  \\\n",
       "0   1      Oscar et la dame rose (2009)     drama   \n",
       "1   2                      Cupid (1997)  thriller   \n",
       "2   3  Young, Wild and Wonderful (1980)     adult   \n",
       "3   4             The Secret Sin (1915)     drama   \n",
       "4   5            The Unrecovered (2007)     drama   \n",
       "\n",
       "                                             Summary  length  \\\n",
       "0  Listening in to a conversation between his doc...     545   \n",
       "1  A brother and sister with a past incestuous re...     183   \n",
       "2  As the bus empties the students for their fiel...     649   \n",
       "3  To help their unemployed father make ends meet...    1081   \n",
       "4  The film's title refers not only to the un-rec...     624   \n",
       "\n",
       "                                       Text_cleaning  length_Text_cleaning  \n",
       "0  listening in to conversation between his docto...                   540  \n",
       "1  a brother and sister with past incestuous rela...                   180  \n",
       "2  as the bus empties the students for their fiel...                   646  \n",
       "3  to help their unemployed father make ends meet...                  1065  \n",
       "4  the films title refers not only to the un reco...                   622  "
      ]
     },
     "execution_count": 15,
     "metadata": {},
     "output_type": "execute_result"
    }
   ],
   "source": [
    "train_df['length_Text_cleaning']=train_df['Text_cleaning'].apply(len)\n",
    "train_df.head()"
   ]
  },
  {
   "cell_type": "markdown",
   "id": "349e24f3",
   "metadata": {},
   "source": [
    "# Feature Extraction (TF-IDF):"
   ]
  },
  {
   "cell_type": "code",
   "execution_count": 16,
   "id": "62a53fe2",
   "metadata": {},
   "outputs": [],
   "source": [
    "tfidf_vectorizer = TfidfVectorizer(max_features=50000) #we have created the object for the tfIDF\n",
    "X_tfidf = tfidf_vectorizer.fit_transform(train_df['Text_cleaning'])#we are fitting it in training and testing dataset\n",
    "X_test_tfidf = tfidf_vectorizer.transform(test_df['Text_cleaning'])\n"
   ]
  },
  {
   "cell_type": "markdown",
   "id": "545cc897",
   "metadata": {},
   "source": [
    "# Naive Bayes Model:"
   ]
  },
  {
   "cell_type": "code",
   "execution_count": 17,
   "id": "45d946c4",
   "metadata": {},
   "outputs": [
    {
     "data": {
      "text/plain": [
       "MultinomialNB()"
      ]
     },
     "execution_count": 17,
     "metadata": {},
     "output_type": "execute_result"
    }
   ],
   "source": [
    "nb_classifier = MultinomialNB()# we are creating model object \n",
    "nb_classifier.fit(X_tfidf, train_df['Genre'])  # Use train_df['genre'] without one-hot encoding"
   ]
  },
  {
   "cell_type": "code",
   "execution_count": 19,
   "id": "a8e6c9ae",
   "metadata": {},
   "outputs": [
    {
     "name": "stdout",
     "output_type": "stream",
     "text": [
      "Naive Bayes Accuracy: 0.4532287822878229\n"
     ]
    },
    {
     "name": "stderr",
     "output_type": "stream",
     "text": [
      "C:\\Users\\palvi\\anaconda3\\lib\\site-packages\\sklearn\\metrics\\_classification.py:1318: UndefinedMetricWarning: Precision is ill-defined and being set to 0.0 in labels with no predicted samples. Use `zero_division` parameter to control this behavior.\n",
      "  _warn_prf(average, modifier, msg_start, len(result))\n"
     ]
    },
    {
     "name": "stdout",
     "output_type": "stream",
     "text": [
      "Naive Bayes Precision: 0.4875445605068033\n",
      "Naive Bayes Recall: 0.4532287822878229\n",
      "Naive Bayes F1-score: 0.32554706813415335\n"
     ]
    }
   ],
   "source": [
    "# Suppress warnings related to undefined metrics\n",
    "warnings.filterwarnings(\"ignore\", category=UserWarning, message=\"Accuracy ,Precision and F-score are ill-defined.*\")\n",
    "\n",
    "# Predict using the Naive Bayes classifier\n",
    "nb_predictions = nb_classifier.predict(X_test_tfidf)\n",
    "\n",
    "# Calculating the  accuracy of the model\n",
    "accuracy = accuracy_score(test_df['Genre'], nb_predictions)\n",
    "print(\"Naive Bayes Accuracy:\", accuracy)\n",
    "\n",
    "# Calculating the  precision, recall, and F1-score of the model\n",
    "precision = precision_score(test_df['Genre'], nb_predictions, average='weighted')\n",
    "recall = recall_score(test_df['Genre'], nb_predictions, average='weighted')\n",
    "f1 = f1_score(test_df['Genre'], nb_predictions, average='weighted')\n",
    "\n",
    "print(\"Naive Bayes Precision:\", precision)\n",
    "print(\"Naive Bayes Recall:\", recall)\n",
    "print(\"Naive Bayes F1-score:\", f1)\n",
    "# Restore warning settings\n",
    "warnings.resetwarnings()"
   ]
  },
  {
   "cell_type": "markdown",
   "id": "7ac1fb6d",
   "metadata": {},
   "source": [
    "# Logistic Regression Model:"
   ]
  },
  {
   "cell_type": "code",
   "execution_count": 20,
   "id": "f9bfdff2",
   "metadata": {},
   "outputs": [
    {
     "data": {
      "text/plain": [
       "LogisticRegression(max_iter=1000)"
      ]
     },
     "execution_count": 20,
     "metadata": {},
     "output_type": "execute_result"
    }
   ],
   "source": [
    "# Logistic Regression\n",
    "logreg_classifier = LogisticRegression(max_iter=1000) # we are creating the model object \n",
    "logreg_classifier.fit(X_tfidf,train_df['Genre'] ) # after that  we are fitting it "
   ]
  },
  {
   "cell_type": "code",
   "execution_count": 24,
   "id": "9cde1bc1",
   "metadata": {},
   "outputs": [
    {
     "name": "stdout",
     "output_type": "stream",
     "text": [
      "Logistic Regression Accuracy: 0.5933210332103321\n"
     ]
    },
    {
     "name": "stderr",
     "output_type": "stream",
     "text": [
      "C:\\Users\\palvi\\anaconda3\\lib\\site-packages\\sklearn\\metrics\\_classification.py:1318: UndefinedMetricWarning: Precision is ill-defined and being set to 0.0 in labels with no predicted samples. Use `zero_division` parameter to control this behavior.\n",
      "  _warn_prf(average, modifier, msg_start, len(result))\n"
     ]
    },
    {
     "name": "stdout",
     "output_type": "stream",
     "text": [
      "Logistic Regression Precision: 0.5807645454386413\n",
      "Logistic Regression Recall: 0.5933210332103321\n",
      "Logistic Regression F1-score: 0.5478414286659508\n"
     ]
    }
   ],
   "source": [
    "warnings.filterwarnings(\"ignore\", category=UserWarning, message=\"Accuracy,Precision and F-score are ill-defined.*\")\n",
    "# Predict using the Logistic Regression classifier\n",
    "logreg_predictions = logreg_classifier.predict(X_test_tfidf)\n",
    "\n",
    "# Calculate accuracy\n",
    "logreg_accuracy = accuracy_score(test_df['Genre'], logreg_predictions)\n",
    "print(\"Logistic Regression Accuracy:\", logreg_accuracy)\n",
    "\n",
    "# Calculate precision, recall, and F1-score\n",
    "logreg_precision = precision_score(test_df['Genre'], logreg_predictions, average='weighted')\n",
    "logreg_recall = recall_score(test_df['Genre'], logreg_predictions, average='weighted')\n",
    "logreg_f1 = f1_score(test_df['Genre'], logreg_predictions, average='weighted')\n",
    "\n",
    "print(\"Logistic Regression Precision:\", logreg_precision)\n",
    "print(\"Logistic Regression Recall:\", logreg_recall)\n",
    "print(\"Logistic Regression F1-score:\", logreg_f1)\n",
    "warnings.resetwarnings()\n"
   ]
  }
 ],
 "metadata": {
  "kernelspec": {
   "display_name": "Python 3 (ipykernel)",
   "language": "python",
   "name": "python3"
  },
  "language_info": {
   "codemirror_mode": {
    "name": "ipython",
    "version": 3
   },
   "file_extension": ".py",
   "mimetype": "text/x-python",
   "name": "python",
   "nbconvert_exporter": "python",
   "pygments_lexer": "ipython3",
   "version": "3.9.12"
  }
 },
 "nbformat": 4,
 "nbformat_minor": 5
}
